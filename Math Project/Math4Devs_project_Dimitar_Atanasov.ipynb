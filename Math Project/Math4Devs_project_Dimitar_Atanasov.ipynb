{
 "cells": [
  {
   "cell_type": "code",
   "execution_count": 3,
   "id": "a1de0744",
   "metadata": {},
   "outputs": [],
   "source": [
    "%matplotlib inline"
   ]
  },
  {
   "cell_type": "code",
   "execution_count": 2,
   "id": "9197840c",
   "metadata": {},
   "outputs": [],
   "source": [
    "from scipy.stats import norm\n",
    "from scipy.stats import normaltest\n",
    "from scipy.stats import shapiro\n",
    "import numpy as np\n",
    "import matplotlib.pyplot as plt\n",
    "from numpy.random import seed\n",
    "from numpy.random import randn"
   ]
  },
  {
   "cell_type": "markdown",
   "id": "27fda3b8",
   "metadata": {},
   "source": [
    "# Normal Distribution: What is it, why we need it and how to find if it's there\n",
    "\n",
    "## Course project by Dimitar Atanasov"
   ]
  },
  {
   "cell_type": "markdown",
   "id": "9531bf21",
   "metadata": {},
   "source": [
    "### Math For Developers, February 2021"
   ]
  },
  {
   "cell_type": "markdown",
   "id": "9c4981b8",
   "metadata": {},
   "source": [
    "## Table of Contents:\n",
    "\n",
    "### Preface\n",
    "\n",
    "### 1. What is Normal Distribution?\n",
    "\n",
    "### 2. Why do we need to know what normal distribution is?\n",
    "\n",
    "### 3. Assuming Normality: A Staple of Modern Science\n",
    "\n",
    "### 4. A Mathematical look at Normal Distribution\n",
    "\n",
    "### 5. Checking whether a distribution is Normal\n",
    "\n",
    "#### 5.1 The Various Methods Of Testing\n",
    "\n",
    "##### 5.1.1 D'Agustino's K^2 Test (D'Agustino-Pearson Omnibus)\n",
    "\n",
    "##### 5.1.2 Shapiro-Wilk Test\n",
    "\n",
    "### 6. Interpreting the tests\n",
    "\n",
    "### 7. Conclusion"
   ]
  },
  {
   "cell_type": "markdown",
   "id": "6385614d",
   "metadata": {},
   "source": [
    "# Preface\n",
    "\n",
    "I chose this topic, as it is interesting, both in theory, but also in practice. I have experience in processing data with IBM's SPSS, as well as Excel.\n",
    "After all, I am a PhD student in Sociology, and have several years of experience. I have studied Statistics in University a fair amount. I do not consider myself an expert by any means, as my interests lie more in the field of STS (Science and Technology Studies), where we make a different kind of observations.\n",
    "Regardless, the optimization potential here appears astounding, and the way it works is much cleaner, visible and transparent than it is in SPSS.\n",
    "As such, I decided to look into what Gaussian distribution entails, and into some ways to check if whether it is there or not. If possible, I would like to scratch the surface on some brand-new theories claiming that normal distribution isn't actually real when considering today's massive data samples that come out of big data analyses."
   ]
  },
  {
   "cell_type": "markdown",
   "id": "9112da8d",
   "metadata": {},
   "source": [
    "# 1. What is Normal Distribution?\n",
    "**Prior to starting, this is only a theoretical point, that explains the concept, the mathematics of it come a tad bit later.**\n",
    "\n",
    "The Normal distribution is also referred to as the Gaussian Distribution. This is not by accident, but rather because Carl Friedrich Gauss was the first to observe it and note it.\n",
    "The Gaussian distribution is a continuous probability distribution that could be considered central and quite important in many fields of science.\n",
    "It is called the bell curve, because the graph of its probability density looks like a bell.\n",
    "**Generally speaking, for a normal distribution the following is fact:**\n",
    "\n",
    "* The mean, mode and median are all equal.\n",
    "* The curve is symmetric at the center (i.e. around the mean, μ).\n",
    "* Exactly half of the values are to the left of center and exactly half the values are to the right.\n",
    "* The total area under the curve is 1.\n",
    "\n",
    "To provide a better idea of what normal distribution looks like, the following graph is presented below:\n",
    "![It appears my image is gone](XifLyoH.jpg) An example of Gaussian distribution.\n",
    "\n",
    "A method of figuring out how data are distributed is to plot them in a graph. \n",
    "If the data is evenly distributed, you may come up with a bell curve - obviously this is simply a visual check and more tests are required to be certain. \n",
    "A bell curve has a small percentage of the points on both tails and the bigger percentage on the inner part of the curve. \n",
    "In the standard normal model, about 5 percent of your data would fall into the “tails” (colored darker orange in the image below) and 90 percent will be in between. \n",
    "\n",
    "An example of this are test scores (of high school, university and so on, students), the normal distribution would show 2.5 percent of students getting very low scores and 2.5 percent getting very high scores. The rest will be in the middle; not too high or too low. The shape of the standard normal distribution looks like the graph above.\n",
    "\n",
    "### The Central Limit Theorem\n",
    "\n",
    "Many values follow a normal distribution. This is because of the central limit theorem, which says that if an event is the sum of identical but random events, it will be normally distributed. Some examples include:\n",
    "\n",
    "* Height\n",
    "* Test scores\n",
    "* Measurement errors\n",
    "* Light intensity (so-called Gaussian beams, as in laser light)\n",
    "* Intelligence is probably normally distributed. There is a problem with accurately defining or measuring it, though.\n",
    "* Insurance companies use normal distributions to model certain average cases.\n",
    "\n",
    "The central limit theorem is the basis for how normal distributions work in statistics.\n",
    "\n",
    "In research, to get a good idea of a population mean, ideally you’d collect data from multiple random samples within the population. A sampling distribution of the mean is the distribution of the means of these different samples.\n",
    "\n",
    "The central limit theorem shows the following:\n",
    "\n",
    "* Law of Large Numbers: As you increase sample size (or the number of samples), then the sample mean will approach the population mean.\n",
    "* With multiple large samples, the sampling distribution of the mean is normally distributed, even if your original variable is not normally distributed.\n",
    "\n",
    "**In the social sciences, in which I am also a PhD student and have experience in, assumptions on whether data is normally distributied is frequently used in our research and surveys.**\n",
    "\n",
    "If one is, say, a high school student and wants to get a rough idea of his level. A simple survey and check the normal distribution is there, could help them figure out which subject they are getting good grades in and which subjects they have to exert more effort into due to low scoring percentages. Once they get a score in one subject that is higher than their own score in another subject, they might think considering that they are better in the subject where they got the higher score. Of course, as there is always a statistical chance for an error - this is not always true.\n",
    "\n",
    "**To put it in even simpler terms: A normal distribution is a distribution that is solely dependent on two parameters of the data set: mean and the standard deviation of the sample.**\n",
    "1. Mean — This is the average value of all the points in the sample that is computed by summing the values and then dividing by the total number of the values in a sample.\n",
    "2. Standard Deviation — This indicates how much the data set deviates from the mean of the sample.\n",
    "**The normal distribution is simple to explain. The reasons are:**\n",
    "1. The mean, mode, and median of the distribution are equal.\n",
    "2. A researcher only needs to use the mean and standard deviation to explain the entire distribution."
   ]
  },
  {
   "cell_type": "markdown",
   "id": "06ba0e54",
   "metadata": {},
   "source": [
    "# 2. Why do we need to know what normal distribution is?\n",
    "\n",
    "Normal distributions are often used in the natural and social sciences to represent real-valued random variables whose distributions are not known. The Normal distribution is a continuous theoretical probability distribution. In this article, I am going to explore the Normal distribution using Jupyter Notebook.\n",
    "\n",
    "An important decision point when working with a sample of data is whether to use parametric or nonparametric statistical methods.\n",
    "\n",
    "Parametric statistical methods assume that the data has a known and specific distribution, often a Gaussian distribution. If a data sample is not Gaussian, then the assumptions of parametric statistical tests are violated and nonparametric statistical methods must be used.\n",
    "\n",
    "As such, there are a range of techniques that researchers can use to check if their data sample deviates from a Gaussian distribution, called normality tests.\n",
    "Researchers check if whether a sample is normal and that subsequently dictates the types of statistical methods to use with a data sample. They employ various graphical methods for qualifying deviations from normal, such as histograms and the Q-Q plot.\n",
    "\n",
    "Essentially, researchers use statistical normality tests for quantifying deviations from normal. Subsequent decision-making then is applied to see what parametric or non-parametric methods are to be used."
   ]
  },
  {
   "cell_type": "markdown",
   "id": "34f3c7f5",
   "metadata": {},
   "source": [
    "## 3. Assuming Normality: A Staple of Modern Science\n",
    "\n",
    "A large fraction of the field of statistics (and by proxy sociology, and other fields) is concerned with data that assumes that it was drawn from a Gaussian distribution.\n",
    "\n",
    "If methods are used that assume a Gaussian distribution, and data was drawn from a different distribution, the findings may be misleading or plain wrong.\n",
    "\n",
    "There are a number of techniques that can be employed to check if a data sample is Gaussian or sufficiently Gaussian-like to use the standard techniques, or sufficiently non-Gaussian to instead use non-parametric statistical methods.\n",
    "\n",
    "This is a key decision point when it comes to choosing statistical methods for your data sample.\n",
    "To put it as simple as possible:\n",
    "* If there is a Gaussian distribution we use parametric statistical methods.\n",
    "* If there is a deviation from Normality we use non-parametric statistical methods.\n",
    "\n",
    "There is also some middle ground where we can assume that the data is Gaussian-enough to use parametric methods or that we can use data preparation techniques to transform the data to be sufficiently Gaussian to use the parametric methods.\n",
    "\n",
    "A key point in statistics is that researchers don't get too attached to \"normal distribution\" and are willing to do anything in order to make it appear Gaussian.\n",
    "\n",
    "The data may not be normal for lots of different reasons. Each test that we will see below investigates whether a sample was drawn from a Gaussian distribution from a slightly different perspective.\n",
    "\n",
    "A failure of one normality test means that the data is not normal. As simple as that. As such is it valuable to use more than one normality test per sample.\n",
    "\n",
    "Researchers can either investigate why data is not normal and perhaps use data preparation techniques to make the data more normal.\n",
    "\n",
    "**Finally, researchers can face the music and look into the use of nonparametric statistical methods instead of the parametric methods.**\n"
   ]
  },
  {
   "cell_type": "markdown",
   "id": "a931fb14",
   "metadata": {},
   "source": [
    "## 4. A Mathematical look at Normal distribution\n",
    "\n",
    "For both theoretical and practical reasons, the normal distribution is probably the most important distribution in statistics. For example,\n",
    "* Many classical statistical tests are based on the assumption that the data follow a normal distribution. This assumption should be tested before applying these tests.\n",
    "* In modeling applications, such as linear and non-linear regression, the error term is often assumed to follow a normal distribution with fixed location and scale.\n",
    "* The normal distribution is used to find significance levels in many hypothesis tests and confidence intervals.\n",
    "\n",
    "\n",
    "The normal distribution is widely used. Part of the appeal is that it is well behaved and mathematically tractable. However, the central limit theorem provides a theoretical basis for why it has wide applicability.\n",
    "The central limit theorem basically states that as the sample size (N) becomes large, the following occur:\n",
    "\n",
    "The sampling distribution of the mean becomes approximately normal regardless of the distribution of the original variable.\n",
    "The sampling distribution of the mean is centered at the population mean, μ, of the original variable. In addition, the standard deviation of the sampling distribution of the mean approaches $\\sigma / \\sqrt{N}$.\n",
    "\n",
    "As we mentioned earlier, the most characteristic feature of normal distribution is its probability density, as it resembles a bell.\n",
    "Its Probability Density Function (PDF) looks the following way:\n",
    "\n",
    "$$f(x)=\\frac{1}{\\sigma \\sqrt{2 \\pi}}e^{-\\frac{(x- \\mu)^2}{2 \\sigma^2}}\\text{, where $x\\in \\mathbb{R}$}$$\n",
    "\n",
    "$f(x)$ = probability\n",
    "\n",
    "$x$ = value of the variable\n",
    "\n",
    "$\\mu$ = mean\n",
    "\n",
    "$\\sigma$ = standard deviation\n",
    "\n",
    "$\\sigma^2$ = variance\n",
    "\n",
    "\n",
    "The standard normal distribution, also called the z-distribution, is a special normal distribution where the mean is 0 and the standard deviation is 1.\n",
    "\n",
    "Every normal distribution is a version of the standard normal distribution that’s been stretched or squeezed and moved horizontally right or left.\n",
    "While individual observations from normal distributions are referred to as x, they are referred to as z in the z-distribution. Every normal distribution can be converted to the standard normal distribution by turning the individual values into z-scores.\n",
    "\n",
    "Z-scores tell you how many standard deviations away from the mean each value lies.\n",
    "\n",
    "$$z=\\frac{x-\\mu}{\\sigma}$$\n",
    "\n",
    "Where:\n",
    "$x$ = individual value\n",
    "\n",
    "$\\mu$ = mean\n",
    "\n",
    "$\\sigma$ = standard deviation\n",
    "\n",
    "$\\mu$ is the location parameter and $\\sigma$ is the scale parameter. The case where $\\mu$ = 0 and σ$\\sigma$ = 1 is called the standard normal distribution. The equation for the standard normal distribution is\n",
    "$$f(x) = \\frac{e^{-x^{2}/2}} {\\sqrt{2\\pi}}$$\n",
    "\n",
    "The random variable X described by the PDF is a normal variable that follows a normal distribution with mean $\\mu$ and variance $\\sigma^2$.\n",
    "\n",
    "The Normal distribution notation is $$X\\sim N(\\mu,\\sigma^2)$$\n",
    "\n",
    "The area under the curve equals 1. $$\\int \\limits _{-\\infty} ^{+\\infty}f(x)dx=1$$\n",
    "The standard normal probability function looks like this:\n",
    "![Alt text](norpdf.gif)"
   ]
  },
  {
   "cell_type": "markdown",
   "id": "81e379ce",
   "metadata": {},
   "source": [
    "In order to see how the Normal distribution plots with different means, and thus a different probability density function, we will use the norm.pdf function, as seen below.\n",
    "norm.pdf retuns a single pdf value. Below is the pdf value when $x=1, \\mu=0, \\sigma=1$."
   ]
  },
  {
   "cell_type": "code",
   "execution_count": 3,
   "id": "1179074a",
   "metadata": {},
   "outputs": [
    {
     "data": {
      "text/plain": [
       "0.24197072451914337"
      ]
     },
     "execution_count": 3,
     "metadata": {},
     "output_type": "execute_result"
    }
   ],
   "source": [
    "norm.pdf(x=1.0, loc=0, scale=1)"
   ]
  },
  {
   "cell_type": "markdown",
   "id": "45a5d417",
   "metadata": {},
   "source": [
    "We can see where the function is located on the normal distribution itself when we mark a plot with the specific function x position."
   ]
  },
  {
   "cell_type": "code",
   "execution_count": 4,
   "id": "265de12b",
   "metadata": {},
   "outputs": [
    {
     "data": {
      "image/png": "[encoded data removed]",
      "text/plain": [
       "<Figure size 432x288 with 1 Axes>"
      ]
     },
     "metadata": {},
     "output_type": "display_data"
    }
   ],
   "source": [
    "fig, ax = plt.subplots()\n",
    "x= np.arange(-4,4,0.001)\n",
    "ax.plot(x, norm.pdf(x))\n",
    "ax.set_ylim(0,0.45) # range\n",
    "ax.axhline(y=0.24,xmax=0.61,color='r') # horizontal line\n",
    "ax.axvline(x=1, ymax=0.53, color='r',alpha=0.5) # vertical line\n",
    "xplot = ax.plot([1], [0.24], marker='o', markersize=15, color=\"red\") # coordinate point\n",
    "ax.set_yticks([]) # remove y axis label\n",
    "ax.set_xticks([]) # remove x axis label\n",
    "ax.set_xlabel('x',fontsize=20) # set x label\n",
    "ax.set_ylabel('pdf(x)',fontsize=20,rotation=0) # set y label\n",
    "ax.xaxis.set_label_coords(0.61, -0.02) # x label coordinate\n",
    "ax.yaxis.set_label_coords(-0.1, 0.5) # y label coordinate\n",
    "plt.show()"
   ]
  },
  {
   "cell_type": "markdown",
   "id": "7761479e",
   "metadata": {},
   "source": [
    "Since norm.pdf returns a PDF value, we can use this function to plot the normal distribution function. We graph a PDF of the normal distribution using scipy, numpy and matplotlib. We use the domain $−4<x<4$, range $0<f(x)<0.45$, default $\\mu=0 and \\sigma=1$. And then using our favourite function in this course: plot(x-values,y-values)."
   ]
  },
  {
   "cell_type": "code",
   "execution_count": 6,
   "id": "b3fbdcff",
   "metadata": {},
   "outputs": [
    {
     "data": {
      "image/png": "[encoded data removed]",
      "text/plain": [
       "<Figure size 432x288 with 1 Axes>"
      ]
     },
     "metadata": {
      "needs_background": "light"
     },
     "output_type": "display_data"
    }
   ],
   "source": [
    "fig, ax = plt.subplots()\n",
    "x= np.arange(-4,4,0.001)\n",
    "ax.set_title('N(0,$1^2$)')\n",
    "ax.set_xlabel('x')\n",
    "ax.set_ylabel('f(x)')\n",
    "ax.plot(x, norm.pdf(x))\n",
    "ax.set_ylim(0,0.45)\n",
    "\n",
    "plt.show()"
   ]
  },
  {
   "cell_type": "markdown",
   "id": "498d652c",
   "metadata": {},
   "source": [
    "Important here is that the bell curve is symmetrical - it has a maximum point at $x=\\mu$."
   ]
  },
  {
   "cell_type": "markdown",
   "id": "915247af",
   "metadata": {},
   "source": [
    "A very simple way to see if normal distribution really occurs in random samples of data is to plot random values, and see if it works in the familiar bell curve."
   ]
  },
  {
   "cell_type": "markdown",
   "id": "53fbd141",
   "metadata": {},
   "source": [
    "Instead of using a generator, we use the norm.rvs function that simply generates random normal distribution numbers according to the scale which is the standard deviation, the loc which is the mean and the size. We create a histogram for the generated numbers and add the PDF on top of it."
   ]
  },
  {
   "cell_type": "code",
   "execution_count": 7,
   "id": "2b702f58",
   "metadata": {},
   "outputs": [
    {
     "data": {
      "image/png": "[encoded data removed]",
      "text/plain": [
       "<Figure size 432x288 with 2 Axes>"
      ]
     },
     "metadata": {
      "needs_background": "light"
     },
     "output_type": "display_data"
    }
   ],
   "source": [
    "fig, ax = plt.subplots()\n",
    "xs = norm.rvs(scale=2,size=1000)\n",
    "x = np.linspace(-10,10,100)\n",
    "p = norm.pdf(x,scale=2)\n",
    "v = np.var(xs)\n",
    "m = np.mean(xs)\n",
    "\n",
    "ax = fig.add_subplot(111)\n",
    "ax.hist(xs, bins=10, alpha=0.5, density=True)\n",
    "ax.plot(x,p, 'r-', lw=2)\n",
    "ax.set_xlabel('x')\n",
    "ax.set_ylabel('pdf(x)')\n",
    "ax.set_title(f'mean={m:.2f}, var={v:.2f}')\n",
    "ax.grid(True)"
   ]
  },
  {
   "cell_type": "markdown",
   "id": "6aefb5af",
   "metadata": {},
   "source": [
    "Lastly, for this course project, I will look at how researchers can calculate the probability of normal distribution.\n",
    "If we assume that we have a mean equalling 3, and the standard deviation is 2, we can find the probability $P(X < 2)$. $$X \\sim N(3,2^2)$$\n",
    "Returning to the norm.pdf function here, the location (loc) keyword specifies the mean and the scale (scale) keyword specifies the standard deviation.\n",
    "We come up with the code below:"
   ]
  },
  {
   "cell_type": "code",
   "execution_count": 13,
   "id": "03450855",
   "metadata": {},
   "outputs": [
    {
     "name": "stdout",
     "output_type": "stream",
     "text": [
      "The probability is 0.31, rounded up\n"
     ]
    },
    {
     "data": {
      "image/png": "[encoded data removed]",
      "text/plain": [
       "<Figure size 432x288 with 1 Axes>"
      ]
     },
     "metadata": {
      "needs_background": "light"
     },
     "output_type": "display_data"
    }
   ],
   "source": [
    "lessthan2=norm.cdf(x=2, loc=3, scale=2)\n",
    "print(f\"The probability is {lessthan2:.2f}, rounded up\")\n",
    "fig, ax = plt.subplots()\n",
    "\n",
    "# for distribution curve\n",
    "x= np.arange(-4,10,0.001)\n",
    "ax.plot(x, norm.pdf(x,loc=3,scale=2))\n",
    "ax.set_title(\"N(3,$2^2$)\")\n",
    "ax.set_xlabel('x')\n",
    "ax.set_ylabel('pdf(x)')\n",
    "ax.grid(True)\n",
    "\n",
    "# for fill_between\n",
    "px=np.arange(-4,2,0.01)\n",
    "ax.set_ylim(0,0.25)\n",
    "ax.fill_between(px,norm.pdf(px,loc=3,scale=2),alpha=0.5, color='g')\n",
    "\n",
    "# for text\n",
    "ax.text(-0.5,0.02,round(lessthan2,2), fontsize=20)\n",
    "plt.show()"
   ]
  },
  {
   "cell_type": "markdown",
   "id": "16f87b9c",
   "metadata": {},
   "source": [
    "**I consider this to be a suitable amount of deliberation into normal distribution, without getting into the functions for cumulative normal distribution, intervals between variables and more.**"
   ]
  },
  {
   "cell_type": "markdown",
   "id": "80be242e",
   "metadata": {},
   "source": [
    "## 5. Checking whether a distribution is Normal\n",
    "\n",
    "I mentioned several times in the previous sections why it is important to check whether a researcher's data normally distributed.\n",
    "\n",
    "Still, to elaborate before moving forward:\n",
    "\n",
    "Simple predictive models are usually the most used models. This is due to the fact that they can be explained and are well-understood. Now to add to this point; normal distribution is simple and hence its simplicity makes it extremely popular.\n",
    "\n",
    "If researchers want to predict a variable accurately then the first task they need to perform is to understand the underlying behaviour of our target variable.\n",
    "What they need to do first is to determine the possible outcomes of the target variable and if the underlying outcomes are discrete (distinct values) or continuous (infinite values). \n",
    "\n",
    "Once a researcher understands how the values are distributed then they can start estimating the probabilities of the events, even by the means of using formulas (known as probability distribution functions). As a consequence, they can start understanding the behaviour of their target variables better. The probability distribution is dependent on the moments of the sample such as mean, standard deviation, skewness, and/or kurtosis.\n",
    "\n",
    "### 5.1 The Various Methods Of Testing\n",
    "\n",
    "There are several methods of testing whether a distribution is normal. Due to the constraints of space and not to get too out of hand in explanations, I will look into two methods - the D’Agostino’s K^2 Test, as well as the Shapiro-Wilk test.\n",
    "There are various other methods such as the Lilliefors corrected K-S test, Anderson-Darling test, Cramer-von Mises test, Anscombe-Glynn kurtosis test, and the Jarque-Bera test.\n",
    "\n",
    "**There is no specific reason as to why exactly I chose these two to look into, apart from the fact that they were easily doable in SPSS in my past experience and I have some (potentially limited) knowledge of them.**\n",
    "\n",
    "Before moving foward, the following needs to be mentioned:\n",
    "\n",
    "The tests mentioned above compare the scores in the sample to a normally distributed set of scores with the same mean and standard deviation; the null hypothesis is that “sample distribution is normal.” If the test is significant, the distribution is non-normal. For small sample sizes, normality tests have little power to reject the null hypothesis and therefore small samples most often pass normality tests."
   ]
  },
  {
   "cell_type": "markdown",
   "id": "d52830be",
   "metadata": {},
   "source": [
    "### Generating our Random Dataset\n",
    "\n",
    "I will generate a small sample of random numbers drawn from a Gaussian distribution.\n",
    "\n",
    "The choice of Gaussian random numbers for the test dataset means that we do expect each test to correctly identify the distribution, nevertheless, the small-ish sample size may introduce some noise into the results.\n",
    "\n",
    "We will use the randn() NumPy function to generate random Gaussian numbers with a mean of 0 and a standard deviation of 1, so-called standard, normal variables. We will then shift them to have a mean of 50 and a standard deviation of 5.\n",
    "\n",
    "The test is a bit rigged, obviously, as it is guaranteed that it will be Gaussian, but that is not the point here.\n",
    "\n",
    "I will use the randn() NumPy function to generate random Gaussian numbers with a mean of 0 and a standard deviation of 1, so-called standard, normal variables. I will then shift them to have a mean of 50 and a standard deviation of 5."
   ]
  },
  {
   "cell_type": "code",
   "execution_count": 10,
   "id": "aed34426",
   "metadata": {},
   "outputs": [
    {
     "name": "stdout",
     "output_type": "stream",
     "text": [
      "mean=50.303 stdv=4.426\n"
     ]
    }
   ],
   "source": [
    "# seed the random number generator\n",
    "seed(1)\n",
    "# generate univariate observations\n",
    "data = 5 * randn(100) + 50\n",
    "# summarize\n",
    "print('mean=%.3f stdv=%.3f' % (np.mean(data), np.std(data)))"
   ]
  },
  {
   "cell_type": "markdown",
   "id": "5edd9a54",
   "metadata": {},
   "source": [
    "Of course, we will also visually check it with a histogram."
   ]
  },
  {
   "cell_type": "code",
   "execution_count": 17,
   "id": "626b056e",
   "metadata": {},
   "outputs": [
    {
     "data": {
      "image/png": "[encoded data removed]",
      "text/plain": [
       "<Figure size 432x288 with 1 Axes>"
      ]
     },
     "metadata": {
      "needs_background": "light"
     },
     "output_type": "display_data"
    }
   ],
   "source": [
    "plt.hist(data)\n",
    "plt.show()"
   ]
  },
  {
   "cell_type": "markdown",
   "id": "2622b346",
   "metadata": {},
   "source": [
    "It has a Gaussian-like shape to the data, that although is not strongly the familiar bell-shape, is a rough approximation. It will do the job!"
   ]
  },
  {
   "cell_type": "markdown",
   "id": "b50ebb16",
   "metadata": {},
   "source": [
    "### 5.1.1 D’Agostino’s K^2 Test\n",
    "\n",
    "The D’Agostino’s K^2 test calculates summary statistics from the data, namely kurtosis and skewness, to determine if the data distribution departs from the normal distribution, named for Ralph D’Agostino.\n",
    "\n",
    "**Skew** is a quantification of how much a distribution is pushed left or right, a measure of asymmetry in the distribution.\n",
    "\n",
    "**Kurtosis** quantifies how much of the distribution is in the tail. It is a simple and commonly used statistical test for normality.\n",
    "\n",
    "**The D’Agostino’s K^2 test is luckily available via the normaltest() SciPy function and returns the test statistic and the p-value.**\n",
    "\n",
    "Simply put, H0 means that the distribution is Gaussian, while H1 assumes that it is non-Gaussian. We use the test to check.\n",
    "\n",
    "The test is based on transformations of the sample kurtosis and skewness, and has power only against the alternatives that the distribution is skewed and/or kurtic.\n",
    "\n",
    "In the following, ${\\{x_i\\}}$ denotes a sample of n observations, $g_1$ and $g_2$ are the sample skewness and kurtosis, mj’s are the j-th sample central moments, and $\\bar x$ is the sample mean.\n",
    "\n",
    "The sample skewness and kurtosis are defined as:\n",
    "\n",
    "\\begin{array}{l}\n",
    "g_{1}=\\frac{m_{3}}{m_{2}^{3 / 2}}=\\frac{\\frac{1}{n} \\sum_{i=1}^{n}\\left(x_{i}-\\bar{x}\\right)^{3}}{\\left(\\frac{1}{n} \\sum_{i=1}^{n}\\left(x_{i}-\\bar{x}\\right)^{2}\\right)^{3 / 2}} \\\\\n",
    "g_{2}=\\frac{m_{4}}{m_{2}^{2}}-3=\\frac{\\frac{1}{n} \\sum_{i=1}^{n}\\left(x_{i}-\\bar{x}\\right)^{4}}{\\left(\\frac{1}{n} \\sum_{i=1}^{n}\\left(x_{i}-\\bar{x}\\right)^{2}\\right)^{2}}-3\n",
    "\\end{array}\n",
    "\n",
    "These quantities consistently estimate the theoretical skewness and kurtosis of the distribution, respectively.\n",
    "\n",
    "**Prior to any test, of course, we need to generate our data - since usually a random sample turns out to be normally distributed, we'll simply use a random number generator, luckily NumPy includes one.**"
   ]
  },
  {
   "cell_type": "code",
   "execution_count": 11,
   "id": "98332363",
   "metadata": {},
   "outputs": [
    {
     "name": "stdout",
     "output_type": "stream",
     "text": [
      "mean=50.303 stdv=4.426\n",
      "Statistics=0.102, p=0.950\n",
      "Sample looks Gaussian accept H0, reject H1\n"
     ]
    }
   ],
   "source": [
    "# seed the random number generator\n",
    "# We can change the seed, we can do more tests, usually it comes out almost the same.\n",
    "np.random.seed(1)\n",
    "# generate univariate observations\n",
    "data = 5 * randn(100) + 50\n",
    "# We print out the Mean and Std to check if everything is in order and then we carry out the test.\n",
    "\n",
    "print('mean=%.3f stdv=%.3f' % (np.mean(data), np.std(data)))\n",
    "# normality test\n",
    "stat, p = normaltest(data)\n",
    "print('Statistics=%.3f, p=%.3f' % (stat, p))\n",
    "# interpret\n",
    "alpha = 0.05\n",
    "if p > alpha:\n",
    "    print('Sample looks Gaussian accept H0, reject H1')\n",
    "else:\n",
    "    print('Sample does not look Gaussian accept H1, reject H0')"
   ]
  },
  {
   "cell_type": "markdown",
   "id": "31815cd0",
   "metadata": {},
   "source": [
    "Running the example calculates the statistic and prints the statistic and p-value.\n",
    "\n",
    "The p-value is interpreted against an alpha of 5% and finds that the test dataset does not significantly deviate from normal.\n",
    "\n",
    "It would also be unfair to simply call the test the D'Agostino K^2, as it is rather the D'Agostino-Pearson omnibus.\n",
    "To explain what takes place in the code above - the test first computes the skewness and kurtosis to quantify how far from Gaussian the distribution is in terms of asymmetry and shape. \n",
    "It then calculates how far each of these values differs from the value expected with a Gaussian distribution, and computes a single P value from the sum of these discrepancies. \n",
    "It is a versatile and powerful normality test, and is recommended.\n",
    "\n",
    "**A bit more on the test could be read in the scipy documentation on the following [link](https://docs.scipy.org/doc/scipy/reference/generated/scipy.stats.normaltest.html)**"
   ]
  },
  {
   "cell_type": "markdown",
   "id": "8f32efb9",
   "metadata": {},
   "source": [
    "### 5.1.2 Shapiro-Wilk Test\n",
    "\n",
    "The Shapiro-Wilk test is based on the correlation between the data and the corresponding normal scores and provides better power than the K-S test even after the Lilliefors correction. Power is the most frequent measure of the value of a test for normality—the ability to detect whether a sample comes from a non-normal distribution. Some researchers recommend the Shapiro-Wilk test as the best choice for testing the normality of data.\n",
    "\n",
    "The Shapiro-Wilk test evaluates a data sample and quantifies how likely it is that the data was drawn from a Gaussian distribution, named for Samuel Shapiro and Martin Wilk.\n",
    "\n",
    "In practice, the Shapiro-Wilk test is believed to be a reliable test of normality, although there is some suggestion that the test may be suitable for smaller samples of data, e.g. thousands of observations or fewer.\n",
    "\n",
    "The [shapiro()](https://docs.scipy.org/doc/scipy/reference/generated/scipy.stats.shapiro.html) SciPy function will calculate the Shapiro-Wilk on a given dataset. The function returns both the W-statistic calculated by the test and the p-value."
   ]
  },
  {
   "cell_type": "code",
   "execution_count": 20,
   "id": "177830c7",
   "metadata": {},
   "outputs": [
    {
     "name": "stdout",
     "output_type": "stream",
     "text": [
      "Statistics=0.992, p=0.822\n",
      "Sample looks Gaussian accept H0, reject H1\n"
     ]
    }
   ],
   "source": [
    "# seed the random number generator\n",
    "seed(1)\n",
    "# generate univariate observations\n",
    "data = 5 * randn(100) + 50\n",
    "# normality test\n",
    "stat, p = shapiro(data)\n",
    "print('Statistics=%.3f, p=%.3f' % (stat, p))\n",
    "# interpret\n",
    "alpha = 0.05\n",
    "if p > alpha:\n",
    "    print('Sample looks Gaussian accept H0, reject H1')\n",
    "else:\n",
    "    print('Sample does not look Gaussian accept H1, reject H0')"
   ]
  },
  {
   "cell_type": "markdown",
   "id": "c169caf5",
   "metadata": {},
   "source": [
    "I load up a new dataset each time in order to avoid forgetting it!\n",
    "\n",
    "Running the example first calculates the test on the data sample, then prints the statistic and calculated p-value."
   ]
  },
  {
   "cell_type": "markdown",
   "id": "08706913",
   "metadata": {},
   "source": [
    "## 6. Interpreting the tests\n",
    "\n",
    "Each of the tests we look at returns two things:\n",
    "\n",
    "* Statistic: A quantity calculated by the test that can be interpreted in the context of the test via comparing it to critical values from the distribution of the test statistic.\n",
    "* p-value: Used to interpret the test, in this case whether the sample was drawn from a Gaussian distribution.\n",
    "Each test calculates a test-specific statistic. This statistic can aid in the interpretation of the result, although it may require a deeper proficiency with statistics and a deeper knowledge of the specific statistical test. Instead, the p-value can be used to quickly and accurately interpret the statistic in practical applications.\n",
    "\n",
    "The tests assume that that the sample was drawn from a Gaussian distribution. Technically this is called the null hypothesis, or H0. A threshold level is chosen called alpha, typically 5% (or 0.05), that is used to interpret the p-value.\n",
    "\n",
    "In the SciPy implementation of these tests, you can interpret the p value as follows.\n",
    "\n",
    "p <= alpha: reject H0, not normal.\n",
    "p > alpha: fail to reject H0, normal.\n",
    "This means that, in general, we are seeking results with a larger p-value to confirm that our sample was likely drawn from a Gaussian distribution.\n",
    "\n",
    "A result above 5% does not mean that the null hypothesis is true. It means that it is very likely true given available evidence. The p-value is not the probability of the data fitting a Gaussian distribution; it can be thought of as a value that helps us interpret the statistical test.\n",
    "\n",
    "**There is no concrete guarantee that any distribution is Gaussian, as there is no concrete, 100% guarantee in any of the statistics I have ever come across in my experience - everytime there is a statistical error, and other variables. Sometimes the data is simply not enough, or wrongfully gathered, or wrongfully tested.**"
   ]
  },
  {
   "cell_type": "markdown",
   "id": "d3aebd02",
   "metadata": {},
   "source": [
    "## 7. Conclusion\n",
    "\n",
    "\"Normal\" data are data that are drawn (come from) a population that has a normal distribution. This distribution is inarguably the most important and the most frequently used distribution in both the theory and application of statistics.\n",
    "The simple term \"normal\" means something is easy to understand, easy to track, easy to prod and study.\n",
    "As such, there is really little need in explaining why using it, whenever possible, is important.\n",
    "\n",
    "The Gaussian distribution was attributed to the brilliant mathematician by mistake, but still researchers should take to properly use it and not apply it to data that's not normally distributed, due to wishful thinking, or through looking for a shortcut.\n",
    "\n",
    "**And, instead of at the beginning, the anecdota comes in the end!**\n",
    "\n",
    "The normal probability distribution was discovered by Abraham De Moivre in 1733 as a way of approximating the binomial probability distribution when the number of trials in a given experiment is very large. In 1774, Laplace studied the mathematical properties of the normal probability distribution. Through a historical error, the discovery of the normal distribution was attributed to Gauss who first referred to it in a paper in 1809. In the nineteenth century, many scientists noted that measurement errors in a given experiment followed a pattern (the normal curve of errors) that was closely approximated by this probability distribution."
   ]
  },
  {
   "cell_type": "markdown",
   "id": "5c283966",
   "metadata": {},
   "source": [
    "#### References:\n",
    "\n",
    "1. [Statisticshowto.com](https://www.statisticshowto.com/probability-and-statistics/normal-distributions/)\n",
    "2. [Machinelearningmastery.com](https://machinelearningmastery.com/a-gentle-introduction-to-normality-tests-in-python/)\n",
    "3. Ghasemi, A., & Zahediasl, S. (2012). Normality tests for statistical analysis: a guide for non-statisticians. International journal of endocrinology and metabolism, 10(2), 486–489. https://doi.org/10.5812/ijem.3505\n",
    "4. Mishra, P., Pandey, C. M., Singh, U., Gupta, A., Sahu, C., & Keshri, A. (2019). Descriptive statistics and normality tests for statistical data. Annals of cardiac anaesthesia, 22(1), 67–72. https://doi.org/10.4103/aca.ACA_157_18\n",
    "5. [The Engineering Statistics Handbook](https://www.itl.nist.gov/div898/handbook/eda/eda.htm)\n",
    "6. Oztuna D, Elhan AH, Tuccar E. Investigation of four different normality tests in terms of type 1 error rate and power under different distributions. Turkish Journal of Medical Sciences. 2006;36(3):171–6. [Google Scholar](https://scholar.google.com/scholar_lookup?journal=Turkish+Journal+of+Medical+Sciences.&title=Investigation+of+four+different+normality+tests+in+terms+of+type+1+error+rate+and+power+under+different+distributions.&author=D+Oztuna&author=AH+Elhan&author=E+Tuccar&volume=36&issue=3&publication_year=2006&pages=171-6&) [Ref list](https://www.ncbi.nlm.nih.gov/pmc/articles/PMC3693611/#A3505R7)\n",
    "7. https://www.itl.nist.gov/div898/handbook/prc/section2/prc213.htm"
   ]
  }
 ],
 "metadata": {
  "kernelspec": {
   "display_name": "Python 3",
   "language": "python",
   "name": "python3"
  },
  "language_info": {
   "codemirror_mode": {
    "name": "ipython",
    "version": 3
   },
   "file_extension": ".py",
   "mimetype": "text/x-python",
   "name": "python",
   "nbconvert_exporter": "python",
   "pygments_lexer": "ipython3",
   "version": "3.8.8"
  }
 },
 "nbformat": 4,
 "nbformat_minor": 5
}
